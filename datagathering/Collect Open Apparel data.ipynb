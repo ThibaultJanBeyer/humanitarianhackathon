{
 "cells": [
  {
   "cell_type": "code",
   "execution_count": 1,
   "metadata": {},
   "outputs": [],
   "source": [
    "import requests\n",
    "from requests.adapters import HTTPAdapter\n",
    "from requests.packages.urllib3.util.retry import Retry\n",
    "\n",
    "\n",
    "def requests_retry_session(\n",
    "    retries=3,\n",
    "    backoff_factor=0.3,\n",
    "    status_forcelist=(500, 502, 504),\n",
    "    session=None,\n",
    "):\n",
    "    session = session or requests.Session()\n",
    "    retry = Retry(\n",
    "        total=retries,\n",
    "        read=retries,\n",
    "        connect=retries,\n",
    "        backoff_factor=backoff_factor,\n",
    "        status_forcelist=status_forcelist,\n",
    "    )\n",
    "    adapter = HTTPAdapter(max_retries=retry)\n",
    "    session.mount('http://', adapter)\n",
    "    session.mount('https://', adapter)\n",
    "    return session"
   ]
  },
  {
   "cell_type": "code",
   "execution_count": 3,
   "metadata": {},
   "outputs": [],
   "source": [
    "session = requests_retry_session()\n",
    "\n",
    "features = []\n",
    "\n",
    "def get_data(page):\n",
    "    data = {\n",
    "        \"page\": page,\n",
    "        \"page_size\": 500,\n",
    "    }\n",
    "\n",
    "    response = session.get('https://openapparel.org/api/facilities/', params=data)\n",
    "    \n",
    "    return response.json()\n",
    "\n",
    "do_stuff = True\n",
    "page = 1\n",
    "\n",
    "while do_stuff:\n",
    "    response = get_data(page)\n",
    "    \n",
    "    features.extend(response[\"features\"])\n",
    "    \n",
    "    if response[\"next\"] != None:\n",
    "        page +=1\n",
    "    else:\n",
    "        do_stuff = False"
   ]
  },
  {
   "cell_type": "code",
   "execution_count": 5,
   "metadata": {},
   "outputs": [
    {
     "data": {
      "text/plain": [
       "13688"
      ]
     },
     "execution_count": 5,
     "metadata": {},
     "output_type": "execute_result"
    }
   ],
   "source": [
    "len(features)"
   ]
  },
  {
   "cell_type": "code",
   "execution_count": 6,
   "metadata": {},
   "outputs": [
    {
     "data": {
      "text/plain": [
       "{'id': 'AL2019083EVYRMQ',\n",
       " 'type': 'Feature',\n",
       " 'geometry': {'type': 'Point', 'coordinates': [19.560102, 40.724353]},\n",
       " 'properties': {'name': 'Italmek ShPK',\n",
       "  'address': 'L1 Maj Fier',\n",
       "  'country_code': 'AL',\n",
       "  'oar_id': 'AL2019083EVYRMQ',\n",
       "  'country_name': 'Albania'}}"
      ]
     },
     "execution_count": 6,
     "metadata": {},
     "output_type": "execute_result"
    }
   ],
   "source": [
    "features[0]"
   ]
  },
  {
   "cell_type": "code",
   "execution_count": 8,
   "metadata": {},
   "outputs": [],
   "source": [
    "processed_data = []\n",
    "\n",
    "for d in features:\n",
    "    newcomer = {\n",
    "        \"brand\": \"UNKNOWN\",\n",
    "        \"company_type\": \"UNKONWN\",\n",
    "        \"country\": d[\"properties\"][\"country_name\"],\n",
    "        \"name\": d[\"properties\"][\"name\"],\n",
    "        \"lat\": d[\"geometry\"][\"coordinates\"][0],\n",
    "        \"lon\": d[\"geometry\"][\"coordinates\"][1],\n",
    "    }\n",
    "\n",
    "    processed_data.append(newcomer)\n",
    "\n",
    "import json\n",
    "with open(\"data/open_apparrel_locations.json\", \"w\") as f:\n",
    "    data = {\n",
    "        \"factories\": processed_data,\n",
    "    }\n",
    "    f.write(json.dumps(data))"
   ]
  },
  {
   "cell_type": "code",
   "execution_count": null,
   "metadata": {},
   "outputs": [],
   "source": []
  }
 ],
 "metadata": {
  "kernelspec": {
   "display_name": "Python 3",
   "language": "python",
   "name": "python3"
  },
  "language_info": {
   "codemirror_mode": {
    "name": "ipython",
    "version": 3
   },
   "file_extension": ".py",
   "mimetype": "text/x-python",
   "name": "python",
   "nbconvert_exporter": "python",
   "pygments_lexer": "ipython3",
   "version": "3.7.0"
  }
 },
 "nbformat": 4,
 "nbformat_minor": 2
}
